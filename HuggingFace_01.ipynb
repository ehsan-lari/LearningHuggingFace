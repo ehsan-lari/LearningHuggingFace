{
  "nbformat": 4,
  "nbformat_minor": 0,
  "metadata": {
    "colab": {
      "provenance": [],
      "gpuType": "T4",
      "authorship_tag": "ABX9TyNo60dNybtUD0aPEBzVDDvB",
      "include_colab_link": true
    },
    "kernelspec": {
      "name": "python3",
      "display_name": "Python 3"
    },
    "language_info": {
      "name": "python"
    },
    "accelerator": "GPU"
  },
  "cells": [
    {
      "cell_type": "markdown",
      "metadata": {
        "id": "view-in-github",
        "colab_type": "text"
      },
      "source": [
        "<a href=\"https://colab.research.google.com/github/ehsan-lari/LearningHuggingFace/blob/main/HuggingFace_01.ipynb\" target=\"_parent\"><img src=\"https://colab.research.google.com/assets/colab-badge.svg\" alt=\"Open In Colab\"/></a>"
      ]
    },
    {
      "cell_type": "code",
      "execution_count": null,
      "metadata": {
        "id": "KcjZoNvAcx1a"
      },
      "outputs": [],
      "source": [
        "from transformers import pipeline\n",
        "\n",
        "gpt2_pipeline = pipeline(task=\"text-generation\", model=\"openai-community/gpt2\")\n",
        "\n",
        "# Generate three text outputs with a maximum length of 10 tokens\n",
        "results = gpt2_pipeline(\"Federated learning is a\", max_new_tokens=10, num_return_sequences=2)\n",
        "\n",
        "for result in results:\n",
        "    print(result['generated_text'])"
      ]
    },
    {
      "cell_type": "code",
      "source": [
        "# Create a pipeline for grammar checking\n",
        "grammar_checker = pipeline(\n",
        "  task =\"text-classification\",\n",
        "  model =\"abdulmatinomotoso/English_Grammar_Checker\"\n",
        ")\n",
        "\n",
        "# Check grammar of the input text\n",
        "output = grammar_checker(\"I will walk off\")\n",
        "print(output)"
      ],
      "metadata": {
        "id": "Tm2DWDIaf8P3"
      },
      "execution_count": null,
      "outputs": []
    }
  ]
}